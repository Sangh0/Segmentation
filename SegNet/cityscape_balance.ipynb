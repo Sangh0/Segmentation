{
 "cells": [
  {
   "cell_type": "code",
   "execution_count": 9,
   "id": "bb5f338c",
   "metadata": {},
   "outputs": [],
   "source": [
    "# packages and modules\n",
    "import os\n",
    "import cv2\n",
    "import numpy as np\n",
    "import pandas as pd\n",
    "import matplotlib.pyplot as plt\n",
    "import seaborn as sns\n",
    "from glob import glob\n",
    "from tqdm.notebook import tqdm\n",
    "from segnet_utils import load_image_with_resize"
   ]
  },
  {
   "cell_type": "code",
   "execution_count": 10,
   "id": "78318647",
   "metadata": {
    "scrolled": true
   },
   "outputs": [
    {
     "data": {
      "text/html": [
       "<div>\n",
       "<style scoped>\n",
       "    .dataframe tbody tr th:only-of-type {\n",
       "        vertical-align: middle;\n",
       "    }\n",
       "\n",
       "    .dataframe tbody tr th {\n",
       "        vertical-align: top;\n",
       "    }\n",
       "\n",
       "    .dataframe thead th {\n",
       "        text-align: right;\n",
       "    }\n",
       "</style>\n",
       "<table border=\"1\" class=\"dataframe\">\n",
       "  <thead>\n",
       "    <tr style=\"text-align: right;\">\n",
       "      <th></th>\n",
       "      <th>r</th>\n",
       "      <th>g</th>\n",
       "      <th>b</th>\n",
       "    </tr>\n",
       "    <tr>\n",
       "      <th>name</th>\n",
       "      <th></th>\n",
       "      <th></th>\n",
       "      <th></th>\n",
       "    </tr>\n",
       "  </thead>\n",
       "  <tbody>\n",
       "    <tr>\n",
       "      <th>unlabeled</th>\n",
       "      <td>0</td>\n",
       "      <td>0</td>\n",
       "      <td>0</td>\n",
       "    </tr>\n",
       "    <tr>\n",
       "      <th>dynamic</th>\n",
       "      <td>111</td>\n",
       "      <td>74</td>\n",
       "      <td>0</td>\n",
       "    </tr>\n",
       "    <tr>\n",
       "      <th>ground</th>\n",
       "      <td>81</td>\n",
       "      <td>0</td>\n",
       "      <td>81</td>\n",
       "    </tr>\n",
       "    <tr>\n",
       "      <th>road</th>\n",
       "      <td>128</td>\n",
       "      <td>64</td>\n",
       "      <td>128</td>\n",
       "    </tr>\n",
       "    <tr>\n",
       "      <th>sidewalk</th>\n",
       "      <td>244</td>\n",
       "      <td>35</td>\n",
       "      <td>232</td>\n",
       "    </tr>\n",
       "    <tr>\n",
       "      <th>parking</th>\n",
       "      <td>250</td>\n",
       "      <td>170</td>\n",
       "      <td>160</td>\n",
       "    </tr>\n",
       "    <tr>\n",
       "      <th>rail track</th>\n",
       "      <td>230</td>\n",
       "      <td>150</td>\n",
       "      <td>140</td>\n",
       "    </tr>\n",
       "    <tr>\n",
       "      <th>building</th>\n",
       "      <td>70</td>\n",
       "      <td>70</td>\n",
       "      <td>70</td>\n",
       "    </tr>\n",
       "    <tr>\n",
       "      <th>wall</th>\n",
       "      <td>102</td>\n",
       "      <td>102</td>\n",
       "      <td>156</td>\n",
       "    </tr>\n",
       "    <tr>\n",
       "      <th>fence</th>\n",
       "      <td>190</td>\n",
       "      <td>153</td>\n",
       "      <td>153</td>\n",
       "    </tr>\n",
       "    <tr>\n",
       "      <th>guard rail</th>\n",
       "      <td>180</td>\n",
       "      <td>165</td>\n",
       "      <td>180</td>\n",
       "    </tr>\n",
       "    <tr>\n",
       "      <th>bridge</th>\n",
       "      <td>150</td>\n",
       "      <td>100</td>\n",
       "      <td>100</td>\n",
       "    </tr>\n",
       "    <tr>\n",
       "      <th>tunnel</th>\n",
       "      <td>150</td>\n",
       "      <td>120</td>\n",
       "      <td>90</td>\n",
       "    </tr>\n",
       "    <tr>\n",
       "      <th>pole</th>\n",
       "      <td>153</td>\n",
       "      <td>153</td>\n",
       "      <td>153</td>\n",
       "    </tr>\n",
       "    <tr>\n",
       "      <th>traffic light</th>\n",
       "      <td>250</td>\n",
       "      <td>170</td>\n",
       "      <td>30</td>\n",
       "    </tr>\n",
       "    <tr>\n",
       "      <th>traffic sign</th>\n",
       "      <td>220</td>\n",
       "      <td>220</td>\n",
       "      <td>0</td>\n",
       "    </tr>\n",
       "    <tr>\n",
       "      <th>vegetation</th>\n",
       "      <td>107</td>\n",
       "      <td>142</td>\n",
       "      <td>35</td>\n",
       "    </tr>\n",
       "    <tr>\n",
       "      <th>terrain</th>\n",
       "      <td>152</td>\n",
       "      <td>251</td>\n",
       "      <td>152</td>\n",
       "    </tr>\n",
       "    <tr>\n",
       "      <th>sky</th>\n",
       "      <td>70</td>\n",
       "      <td>130</td>\n",
       "      <td>180</td>\n",
       "    </tr>\n",
       "    <tr>\n",
       "      <th>person</th>\n",
       "      <td>220</td>\n",
       "      <td>20</td>\n",
       "      <td>60</td>\n",
       "    </tr>\n",
       "    <tr>\n",
       "      <th>rider</th>\n",
       "      <td>255</td>\n",
       "      <td>0</td>\n",
       "      <td>0</td>\n",
       "    </tr>\n",
       "    <tr>\n",
       "      <th>car</th>\n",
       "      <td>0</td>\n",
       "      <td>0</td>\n",
       "      <td>142</td>\n",
       "    </tr>\n",
       "    <tr>\n",
       "      <th>truck</th>\n",
       "      <td>0</td>\n",
       "      <td>0</td>\n",
       "      <td>70</td>\n",
       "    </tr>\n",
       "    <tr>\n",
       "      <th>bus</th>\n",
       "      <td>0</td>\n",
       "      <td>60</td>\n",
       "      <td>100</td>\n",
       "    </tr>\n",
       "    <tr>\n",
       "      <th>caravan</th>\n",
       "      <td>0</td>\n",
       "      <td>0</td>\n",
       "      <td>90</td>\n",
       "    </tr>\n",
       "    <tr>\n",
       "      <th>trailer</th>\n",
       "      <td>0</td>\n",
       "      <td>0</td>\n",
       "      <td>110</td>\n",
       "    </tr>\n",
       "    <tr>\n",
       "      <th>train</th>\n",
       "      <td>0</td>\n",
       "      <td>80</td>\n",
       "      <td>100</td>\n",
       "    </tr>\n",
       "    <tr>\n",
       "      <th>motorcycle</th>\n",
       "      <td>0</td>\n",
       "      <td>0</td>\n",
       "      <td>230</td>\n",
       "    </tr>\n",
       "    <tr>\n",
       "      <th>bicycle</th>\n",
       "      <td>119</td>\n",
       "      <td>11</td>\n",
       "      <td>32</td>\n",
       "    </tr>\n",
       "    <tr>\n",
       "      <th>license plate</th>\n",
       "      <td>0</td>\n",
       "      <td>0</td>\n",
       "      <td>142</td>\n",
       "    </tr>\n",
       "  </tbody>\n",
       "</table>\n",
       "</div>"
      ],
      "text/plain": [
       "                 r    g    b\n",
       "name                        \n",
       "unlabeled        0    0    0\n",
       "dynamic        111   74    0\n",
       "ground          81    0   81\n",
       "road           128   64  128\n",
       "sidewalk       244   35  232\n",
       "parking        250  170  160\n",
       "rail track     230  150  140\n",
       "building        70   70   70\n",
       "wall           102  102  156\n",
       "fence          190  153  153\n",
       "guard rail     180  165  180\n",
       "bridge         150  100  100\n",
       "tunnel         150  120   90\n",
       "pole           153  153  153\n",
       "traffic light  250  170   30\n",
       "traffic sign   220  220    0\n",
       "vegetation     107  142   35\n",
       "terrain        152  251  152\n",
       "sky             70  130  180\n",
       "person         220   20   60\n",
       "rider          255    0    0\n",
       "car              0    0  142\n",
       "truck            0    0   70\n",
       "bus              0   60  100\n",
       "caravan          0    0   90\n",
       "trailer          0    0  110\n",
       "train            0   80  100\n",
       "motorcycle       0    0  230\n",
       "bicycle        119   11   32\n",
       "license plate    0    0  142"
      ]
     },
     "execution_count": 10,
     "metadata": {},
     "output_type": "execute_result"
    }
   ],
   "source": [
    "# 클래스 디렉토리 데이터 불러오기\n",
    "data = pd.read_csv(r'C:\\Users\\user\\MY_DL\\segmentation\\bisenet\\cityscapes\\class_map.csv', index_col=0)\n",
    "data"
   ]
  },
  {
   "cell_type": "code",
   "execution_count": 11,
   "id": "c576adb5",
   "metadata": {},
   "outputs": [],
   "source": [
    "rgb_data = {name:list(data.loc[name, :]) for name in data.index}\n",
    "rgb_array = {idx:np.array(rgb) for idx, (_, rgb) in enumerate(rgb_data.items())}"
   ]
  },
  {
   "cell_type": "code",
   "execution_count": 12,
   "id": "0ca49749",
   "metadata": {},
   "outputs": [],
   "source": [
    "width = 224\n",
    "height = 224\n",
    "num_classes = len(data) # 19 classes"
   ]
  },
  {
   "cell_type": "code",
   "execution_count": 13,
   "id": "1e17dfa4",
   "metadata": {},
   "outputs": [
    {
     "data": {
      "application/vnd.jupyter.widget-view+json": {
       "model_id": "b3a91d8552e34520898de30f1069b445",
       "version_major": 2,
       "version_minor": 0
      },
      "text/plain": [
       "  0%|          | 0/2975 [00:00<?, ?it/s]"
      ]
     },
     "metadata": {},
     "output_type": "display_data"
    },
    {
     "data": {
      "application/vnd.jupyter.widget-view+json": {
       "model_id": "f29055f2c3ba45368c0a0209073f4bd5",
       "version_major": 2,
       "version_minor": 0
      },
      "text/plain": [
       "  0%|          | 0/8925 [00:00<?, ?it/s]"
      ]
     },
     "metadata": {},
     "output_type": "display_data"
    }
   ],
   "source": [
    "def load_image_with_resize(path, n_pixel_L, n_pixel_R, subset='train'):\n",
    "    image_list, label_list = [], []\n",
    "    image_files = glob(path+'/images/'+subset+'/**/*.png')\n",
    "    label_files = glob(path+'/labels/'+subset+'/**/*.png')\n",
    "    for file in tqdm(image_files):\n",
    "        img = cv2.imread(file)\n",
    "        img = cv2.cvtColor(img, cv2.COLOR_BGR2RGB)\n",
    "        img = cv2.resize(img, (n_pixel_L, n_pixel_R), cv2.INTER_NEAREST)\n",
    "        image_list.append(img)\n",
    "    for file in tqdm(label_files):\n",
    "        if 'color.png' in file.split('_'):\n",
    "            img = cv2.imread(file)\n",
    "            img = cv2.cvtColor(img, cv2.COLOR_BGR2RGB)\n",
    "            img = cv2.resize(img, (n_pixel_L, n_pixel_R), cv2.INTER_NEAREST)\n",
    "            label_list.append(img)\n",
    "    return np.array(image_list), np.array(label_list)\n",
    "\n",
    "path = r'C:\\Users\\user\\MY_DL\\segmentation\\bisenet\\cityscapes'\n",
    "train_image, train_label = load_image_with_resize(path, width, height, subset='train')"
   ]
  },
  {
   "cell_type": "code",
   "execution_count": 14,
   "id": "2a12bc50",
   "metadata": {},
   "outputs": [],
   "source": [
    "def get_class_total_num(class_name, data_label):\n",
    "    class_count = 0\n",
    "    for i in tqdm(range(2975)):\n",
    "        for j in range(224):\n",
    "            for k in range(224):\n",
    "                if (data_label[i][j,k,:] == rgb_data[class_name]).sum() == 3:\n",
    "                    class_count += 1\n",
    "    return class_count"
   ]
  },
  {
   "cell_type": "code",
   "execution_count": 15,
   "id": "01c74992",
   "metadata": {
    "scrolled": true
   },
   "outputs": [
    {
     "data": {
      "application/vnd.jupyter.widget-view+json": {
       "model_id": "604c1fecf6fa4777b1ea2ddbbcdfe2e4",
       "version_major": 2,
       "version_minor": 0
      },
      "text/plain": [
       "  0%|          | 0/2975 [00:00<?, ?it/s]"
      ]
     },
     "metadata": {},
     "output_type": "display_data"
    },
    {
     "data": {
      "application/vnd.jupyter.widget-view+json": {
       "model_id": "14d18585cd2442ebbef767e81bfef6cf",
       "version_major": 2,
       "version_minor": 0
      },
      "text/plain": [
       "  0%|          | 0/2975 [00:00<?, ?it/s]"
      ]
     },
     "metadata": {},
     "output_type": "display_data"
    },
    {
     "data": {
      "application/vnd.jupyter.widget-view+json": {
       "model_id": "e3260d2b8a554cc9acc3f05868245c79",
       "version_major": 2,
       "version_minor": 0
      },
      "text/plain": [
       "  0%|          | 0/2975 [00:00<?, ?it/s]"
      ]
     },
     "metadata": {},
     "output_type": "display_data"
    },
    {
     "data": {
      "application/vnd.jupyter.widget-view+json": {
       "model_id": "26a5add732f34036a859f35ef7caed41",
       "version_major": 2,
       "version_minor": 0
      },
      "text/plain": [
       "  0%|          | 0/2975 [00:00<?, ?it/s]"
      ]
     },
     "metadata": {},
     "output_type": "display_data"
    },
    {
     "data": {
      "application/vnd.jupyter.widget-view+json": {
       "model_id": "09e87706a0a745fb8c86e1446b0b5f9b",
       "version_major": 2,
       "version_minor": 0
      },
      "text/plain": [
       "  0%|          | 0/2975 [00:00<?, ?it/s]"
      ]
     },
     "metadata": {},
     "output_type": "display_data"
    },
    {
     "data": {
      "application/vnd.jupyter.widget-view+json": {
       "model_id": "8a73c8b7510840a1a37c79e1513e5975",
       "version_major": 2,
       "version_minor": 0
      },
      "text/plain": [
       "  0%|          | 0/2975 [00:00<?, ?it/s]"
      ]
     },
     "metadata": {},
     "output_type": "display_data"
    },
    {
     "data": {
      "application/vnd.jupyter.widget-view+json": {
       "model_id": "b2d96c63a08747058949c3b4bbe4b0bd",
       "version_major": 2,
       "version_minor": 0
      },
      "text/plain": [
       "  0%|          | 0/2975 [00:00<?, ?it/s]"
      ]
     },
     "metadata": {},
     "output_type": "display_data"
    },
    {
     "data": {
      "application/vnd.jupyter.widget-view+json": {
       "model_id": "d43f9748575149e88c67bc83225ef499",
       "version_major": 2,
       "version_minor": 0
      },
      "text/plain": [
       "  0%|          | 0/2975 [00:00<?, ?it/s]"
      ]
     },
     "metadata": {},
     "output_type": "display_data"
    },
    {
     "data": {
      "application/vnd.jupyter.widget-view+json": {
       "model_id": "172dbd028dcb46559d0aeafb96803417",
       "version_major": 2,
       "version_minor": 0
      },
      "text/plain": [
       "  0%|          | 0/2975 [00:00<?, ?it/s]"
      ]
     },
     "metadata": {},
     "output_type": "display_data"
    },
    {
     "data": {
      "application/vnd.jupyter.widget-view+json": {
       "model_id": "fe111e51da8f4bb8a50957e465807a58",
       "version_major": 2,
       "version_minor": 0
      },
      "text/plain": [
       "  0%|          | 0/2975 [00:00<?, ?it/s]"
      ]
     },
     "metadata": {},
     "output_type": "display_data"
    },
    {
     "data": {
      "application/vnd.jupyter.widget-view+json": {
       "model_id": "14a867771b27403ba04e5e3da087d5d3",
       "version_major": 2,
       "version_minor": 0
      },
      "text/plain": [
       "  0%|          | 0/2975 [00:00<?, ?it/s]"
      ]
     },
     "metadata": {},
     "output_type": "display_data"
    },
    {
     "data": {
      "application/vnd.jupyter.widget-view+json": {
       "model_id": "c5b41946fc0f4441a88bc04bc97704ef",
       "version_major": 2,
       "version_minor": 0
      },
      "text/plain": [
       "  0%|          | 0/2975 [00:00<?, ?it/s]"
      ]
     },
     "metadata": {},
     "output_type": "display_data"
    },
    {
     "data": {
      "application/vnd.jupyter.widget-view+json": {
       "model_id": "b1ef613644ca44f7a8fbe06cdf59c6a7",
       "version_major": 2,
       "version_minor": 0
      },
      "text/plain": [
       "  0%|          | 0/2975 [00:00<?, ?it/s]"
      ]
     },
     "metadata": {},
     "output_type": "display_data"
    },
    {
     "data": {
      "application/vnd.jupyter.widget-view+json": {
       "model_id": "12364e67ff484df6acb8b9ed3c9a603a",
       "version_major": 2,
       "version_minor": 0
      },
      "text/plain": [
       "  0%|          | 0/2975 [00:00<?, ?it/s]"
      ]
     },
     "metadata": {},
     "output_type": "display_data"
    },
    {
     "data": {
      "application/vnd.jupyter.widget-view+json": {
       "model_id": "b537a3f3781e4db6a1d4cc57cd669e0d",
       "version_major": 2,
       "version_minor": 0
      },
      "text/plain": [
       "  0%|          | 0/2975 [00:00<?, ?it/s]"
      ]
     },
     "metadata": {},
     "output_type": "display_data"
    },
    {
     "data": {
      "application/vnd.jupyter.widget-view+json": {
       "model_id": "ce01afb0d97e4e1a9dc73489fc49f1db",
       "version_major": 2,
       "version_minor": 0
      },
      "text/plain": [
       "  0%|          | 0/2975 [00:00<?, ?it/s]"
      ]
     },
     "metadata": {},
     "output_type": "display_data"
    },
    {
     "data": {
      "application/vnd.jupyter.widget-view+json": {
       "model_id": "594e7be01c53463a8da43f84d47450fd",
       "version_major": 2,
       "version_minor": 0
      },
      "text/plain": [
       "  0%|          | 0/2975 [00:00<?, ?it/s]"
      ]
     },
     "metadata": {},
     "output_type": "display_data"
    },
    {
     "data": {
      "application/vnd.jupyter.widget-view+json": {
       "model_id": "0553e9b131a149e586edd8a558819145",
       "version_major": 2,
       "version_minor": 0
      },
      "text/plain": [
       "  0%|          | 0/2975 [00:00<?, ?it/s]"
      ]
     },
     "metadata": {},
     "output_type": "display_data"
    },
    {
     "data": {
      "application/vnd.jupyter.widget-view+json": {
       "model_id": "6232e8e9abf44207aebb72683a1196e3",
       "version_major": 2,
       "version_minor": 0
      },
      "text/plain": [
       "  0%|          | 0/2975 [00:00<?, ?it/s]"
      ]
     },
     "metadata": {},
     "output_type": "display_data"
    },
    {
     "data": {
      "application/vnd.jupyter.widget-view+json": {
       "model_id": "2d9fe85ec9294646a73ca27cad16c4e5",
       "version_major": 2,
       "version_minor": 0
      },
      "text/plain": [
       "  0%|          | 0/2975 [00:00<?, ?it/s]"
      ]
     },
     "metadata": {},
     "output_type": "display_data"
    },
    {
     "data": {
      "application/vnd.jupyter.widget-view+json": {
       "model_id": "422e31b3233e4274b80bb90ee20849fa",
       "version_major": 2,
       "version_minor": 0
      },
      "text/plain": [
       "  0%|          | 0/2975 [00:00<?, ?it/s]"
      ]
     },
     "metadata": {},
     "output_type": "display_data"
    },
    {
     "data": {
      "application/vnd.jupyter.widget-view+json": {
       "model_id": "1f97c0b9f33a48cb839aa066b485c1ec",
       "version_major": 2,
       "version_minor": 0
      },
      "text/plain": [
       "  0%|          | 0/2975 [00:00<?, ?it/s]"
      ]
     },
     "metadata": {},
     "output_type": "display_data"
    },
    {
     "data": {
      "application/vnd.jupyter.widget-view+json": {
       "model_id": "e67a8e988f294bf59017f1ec456a2670",
       "version_major": 2,
       "version_minor": 0
      },
      "text/plain": [
       "  0%|          | 0/2975 [00:00<?, ?it/s]"
      ]
     },
     "metadata": {},
     "output_type": "display_data"
    },
    {
     "data": {
      "application/vnd.jupyter.widget-view+json": {
       "model_id": "9b20d9a672ab45b6bf5eafc792f8311b",
       "version_major": 2,
       "version_minor": 0
      },
      "text/plain": [
       "  0%|          | 0/2975 [00:00<?, ?it/s]"
      ]
     },
     "metadata": {},
     "output_type": "display_data"
    },
    {
     "data": {
      "application/vnd.jupyter.widget-view+json": {
       "model_id": "0936575e81a948e38715419941c63e9d",
       "version_major": 2,
       "version_minor": 0
      },
      "text/plain": [
       "  0%|          | 0/2975 [00:00<?, ?it/s]"
      ]
     },
     "metadata": {},
     "output_type": "display_data"
    },
    {
     "data": {
      "application/vnd.jupyter.widget-view+json": {
       "model_id": "9eea5e21e9f741e98f0b66c0fb372e5b",
       "version_major": 2,
       "version_minor": 0
      },
      "text/plain": [
       "  0%|          | 0/2975 [00:00<?, ?it/s]"
      ]
     },
     "metadata": {},
     "output_type": "display_data"
    },
    {
     "data": {
      "application/vnd.jupyter.widget-view+json": {
       "model_id": "9b1c0801dd4e493999ddd67c0c3ebef9",
       "version_major": 2,
       "version_minor": 0
      },
      "text/plain": [
       "  0%|          | 0/2975 [00:00<?, ?it/s]"
      ]
     },
     "metadata": {},
     "output_type": "display_data"
    },
    {
     "data": {
      "application/vnd.jupyter.widget-view+json": {
       "model_id": "35e93c6b2a804e18ae7d83a2f38ddcc9",
       "version_major": 2,
       "version_minor": 0
      },
      "text/plain": [
       "  0%|          | 0/2975 [00:00<?, ?it/s]"
      ]
     },
     "metadata": {},
     "output_type": "display_data"
    },
    {
     "data": {
      "application/vnd.jupyter.widget-view+json": {
       "model_id": "5628b30b948644bdbbfba59c9a635749",
       "version_major": 2,
       "version_minor": 0
      },
      "text/plain": [
       "  0%|          | 0/2975 [00:00<?, ?it/s]"
      ]
     },
     "metadata": {},
     "output_type": "display_data"
    },
    {
     "data": {
      "application/vnd.jupyter.widget-view+json": {
       "model_id": "73ae11bcfb33420f8fb2fa3fadeb0b11",
       "version_major": 2,
       "version_minor": 0
      },
      "text/plain": [
       "  0%|          | 0/2975 [00:00<?, ?it/s]"
      ]
     },
     "metadata": {},
     "output_type": "display_data"
    }
   ],
   "source": [
    "unlabeled = get_class_total_num('unlabeled', train_label)\n",
    "dynamic = get_class_total_num('dynamic', train_label)\n",
    "ground = get_class_total_num('ground', train_label)\n",
    "road = get_class_total_num('road', train_label)\n",
    "sidewalk = get_class_total_num('sidewalk', train_label)\n",
    "parking = get_class_total_num('parking', train_label)\n",
    "rail_track = get_class_total_num('rail track', train_label)\n",
    "building = get_class_total_num('building', train_label)\n",
    "wall = get_class_total_num('wall', train_label)\n",
    "fence = get_class_total_num('fence', train_label)\n",
    "guard_rail = get_class_total_num('guard rail', train_label)\n",
    "bridge = get_class_total_num('bridge', train_label)\n",
    "tunnel = get_class_total_num('tunnel', train_label)\n",
    "pole = get_class_total_num('pole', train_label)\n",
    "traffic_light = get_class_total_num('traffic light', train_label)\n",
    "traffic_sign = get_class_total_num('traffic sign', train_label)\n",
    "vegetation = get_class_total_num('vegetation', train_label)\n",
    "terrain = get_class_total_num('terrain', train_label)\n",
    "sky = get_class_total_num('sky', train_label)\n",
    "person = get_class_total_num('person', train_label)\n",
    "rider = get_class_total_num('rider', train_label)\n",
    "car = get_class_total_num('car', train_label)\n",
    "truck = get_class_total_num('truck', train_label)\n",
    "bus = get_class_total_num('bus', train_label)\n",
    "caravan = get_class_total_num('caravan', train_label)\n",
    "trailer = get_class_total_num('trailer', train_label)\n",
    "train = get_class_total_num('train', train_label)\n",
    "motorcycle = get_class_total_num('motorcycle', train_label)\n",
    "bicycle = get_class_total_num('bicycle', train_label)\n",
    "license_plate = get_class_total_num('license plate', train_label)"
   ]
  },
  {
   "cell_type": "code",
   "execution_count": 16,
   "id": "637bb331",
   "metadata": {},
   "outputs": [
    {
     "data": {
      "image/png": "[encoded data removed]",
      "text/plain": [
       "<Figure size 1080x504 with 2 Axes>"
      ]
     },
     "metadata": {
      "needs_background": "light"
     },
     "output_type": "display_data"
    }
   ],
   "source": [
    "# create data frame\n",
    "train_class_labels = list(rgb_data.keys())\n",
    "train_class_count = [unlabeled, dynamic, ground, road, sidewalk, parking,\n",
    "                     rail_track, building, wall, fence, guard_rail, bridge,\n",
    "                     tunnel, pole, traffic_light, traffic_sign, vegetation,\n",
    "                     terrain, sky, person, rider, car, truck, bus, caravan,\n",
    "                     trailer, train, motorcycle, bicycle, license_plate]\n",
    "\n",
    "train_class_df = pd.DataFrame(train_class_count, index=train_class_labels, columns=['Count'])\n",
    "train_class_df = train_class_df.sort_values(by='Count', ascending=False)\n",
    "\n",
    "# show plots\n",
    "plt.figure(figsize=(15,7))\n",
    "plt.subplot(121)\n",
    "sns.barplot(data=train_class_df, x=train_class_df.index, y='Count')\n",
    "plt.xticks(rotation=45, fontsize=15)\n",
    "plt.yticks(fontsize=15)\n",
    "plt.subplot(122)\n",
    "plt.pie(train_class_df['Count'], labels=train_class_df.index, autopct='%.1f%%')\n",
    "plt.show()"
   ]
  },
  {
   "cell_type": "code",
   "execution_count": null,
   "id": "57512adf",
   "metadata": {},
   "outputs": [],
   "source": []
  }
 ],
 "metadata": {
  "kernelspec": {
   "display_name": "Python 3 (ipykernel)",
   "language": "python",
   "name": "python3"
  },
  "language_info": {
   "codemirror_mode": {
    "name": "ipython",
    "version": 3
   },
   "file_extension": ".py",
   "mimetype": "text/x-python",
   "name": "python",
   "nbconvert_exporter": "python",
   "pygments_lexer": "ipython3",
   "version": "3.8.12"
  }
 },
 "nbformat": 4,
 "nbformat_minor": 5
}
