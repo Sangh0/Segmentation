{
 "cells": [
  {
   "cell_type": "markdown",
   "id": "2fdd0128",
   "metadata": {},
   "source": [
    "# Check class balancing of CamVid train data set  "
   ]
  },
  {
   "cell_type": "code",
   "execution_count": 1,
   "id": "c36a6f68",
   "metadata": {},
   "outputs": [],
   "source": [
    "# packages and modules\n",
    "import os\n",
    "import cv2\n",
    "import numpy as np\n",
    "import pandas as pd\n",
    "import matplotlib.pyplot as plt\n",
    "import seaborn as sns\n",
    "from glob import glob\n",
    "from tqdm.notebook import tqdm"
   ]
  },
  {
   "cell_type": "code",
   "execution_count": 2,
   "id": "92b544b6",
   "metadata": {},
   "outputs": [],
   "source": [
    "import warnings\n",
    "warnings.filterwarnings('ignore')"
   ]
  },
  {
   "cell_type": "markdown",
   "id": "876249f2",
   "metadata": {},
   "source": [
    "# Load Data"
   ]
  },
  {
   "cell_type": "code",
   "execution_count": 4,
   "id": "2e6decc4",
   "metadata": {},
   "outputs": [
    {
     "data": {
      "text/html": [
       "<div>\n",
       "<style scoped>\n",
       "    .dataframe tbody tr th:only-of-type {\n",
       "        vertical-align: middle;\n",
       "    }\n",
       "\n",
       "    .dataframe tbody tr th {\n",
       "        vertical-align: top;\n",
       "    }\n",
       "\n",
       "    .dataframe thead th {\n",
       "        text-align: right;\n",
       "    }\n",
       "</style>\n",
       "<table border=\"1\" class=\"dataframe\">\n",
       "  <thead>\n",
       "    <tr style=\"text-align: right;\">\n",
       "      <th></th>\n",
       "      <th>r</th>\n",
       "      <th>g</th>\n",
       "      <th>b</th>\n",
       "    </tr>\n",
       "    <tr>\n",
       "      <th>name</th>\n",
       "      <th></th>\n",
       "      <th></th>\n",
       "      <th></th>\n",
       "    </tr>\n",
       "  </thead>\n",
       "  <tbody>\n",
       "    <tr>\n",
       "      <th>Sky</th>\n",
       "      <td>128</td>\n",
       "      <td>128</td>\n",
       "      <td>128</td>\n",
       "    </tr>\n",
       "    <tr>\n",
       "      <th>Building</th>\n",
       "      <td>128</td>\n",
       "      <td>0</td>\n",
       "      <td>0</td>\n",
       "    </tr>\n",
       "    <tr>\n",
       "      <th>Pole</th>\n",
       "      <td>192</td>\n",
       "      <td>192</td>\n",
       "      <td>128</td>\n",
       "    </tr>\n",
       "    <tr>\n",
       "      <th>Road</th>\n",
       "      <td>128</td>\n",
       "      <td>64</td>\n",
       "      <td>128</td>\n",
       "    </tr>\n",
       "    <tr>\n",
       "      <th>Sidewalk</th>\n",
       "      <td>0</td>\n",
       "      <td>0</td>\n",
       "      <td>192</td>\n",
       "    </tr>\n",
       "    <tr>\n",
       "      <th>Tree</th>\n",
       "      <td>128</td>\n",
       "      <td>128</td>\n",
       "      <td>0</td>\n",
       "    </tr>\n",
       "    <tr>\n",
       "      <th>SignSymbol</th>\n",
       "      <td>192</td>\n",
       "      <td>128</td>\n",
       "      <td>128</td>\n",
       "    </tr>\n",
       "    <tr>\n",
       "      <th>Fence</th>\n",
       "      <td>64</td>\n",
       "      <td>64</td>\n",
       "      <td>128</td>\n",
       "    </tr>\n",
       "    <tr>\n",
       "      <th>Car</th>\n",
       "      <td>64</td>\n",
       "      <td>0</td>\n",
       "      <td>128</td>\n",
       "    </tr>\n",
       "    <tr>\n",
       "      <th>Pedestrian</th>\n",
       "      <td>64</td>\n",
       "      <td>64</td>\n",
       "      <td>0</td>\n",
       "    </tr>\n",
       "    <tr>\n",
       "      <th>Bicyclist</th>\n",
       "      <td>0</td>\n",
       "      <td>128</td>\n",
       "      <td>192</td>\n",
       "    </tr>\n",
       "    <tr>\n",
       "      <th>unlabelled</th>\n",
       "      <td>0</td>\n",
       "      <td>0</td>\n",
       "      <td>0</td>\n",
       "    </tr>\n",
       "  </tbody>\n",
       "</table>\n",
       "</div>"
      ],
      "text/plain": [
       "              r    g    b\n",
       "name                     \n",
       "Sky         128  128  128\n",
       "Building    128    0    0\n",
       "Pole        192  192  128\n",
       "Road        128   64  128\n",
       "Sidewalk      0    0  192\n",
       "Tree        128  128    0\n",
       "SignSymbol  192  128  128\n",
       "Fence        64   64  128\n",
       "Car          64    0  128\n",
       "Pedestrian   64   64    0\n",
       "Bicyclist     0  128  192\n",
       "unlabelled    0    0    0"
      ]
     },
     "execution_count": 4,
     "metadata": {},
     "output_type": "execute_result"
    }
   ],
   "source": [
    "# 클래스 디렉토리 데이터 불러오기\n",
    "data = pd.read_csv(r'C:\\Users\\user\\MY_DL\\segmentation\\dataset\\camvid_low\\11_class_dict.csv', index_col=0)\n",
    "\n",
    "rgb_data = {name:list(data.loc[name, :][:3]) for name in data.index}\n",
    "rgb_array = {idx:np.array(rgb) for idx, (_, rgb) in enumerate(rgb_data.items())}\n",
    "\n",
    "data"
   ]
  },
  {
   "cell_type": "code",
   "execution_count": 5,
   "id": "6f72a863",
   "metadata": {},
   "outputs": [],
   "source": [
    "width = 480\n",
    "height = 360\n",
    "num_classes = len(data)"
   ]
  },
  {
   "cell_type": "code",
   "execution_count": 6,
   "id": "89f4d85a",
   "metadata": {},
   "outputs": [
    {
     "data": {
      "application/vnd.jupyter.widget-view+json": {
       "model_id": "1f73e48b8c6a41d884acf8513f0d45d2",
       "version_major": 2,
       "version_minor": 0
      },
      "text/plain": [
       "  0%|          | 0/367 [00:00<?, ?it/s]"
      ]
     },
     "metadata": {},
     "output_type": "display_data"
    },
    {
     "data": {
      "application/vnd.jupyter.widget-view+json": {
       "model_id": "f110ca8b96064dffa53bc45af79c033a",
       "version_major": 2,
       "version_minor": 0
      },
      "text/plain": [
       "  0%|          | 0/367 [00:00<?, ?it/s]"
      ]
     },
     "metadata": {},
     "output_type": "display_data"
    },
    {
     "data": {
      "application/vnd.jupyter.widget-view+json": {
       "model_id": "304564af77b048a58f44b21ed7609650",
       "version_major": 2,
       "version_minor": 0
      },
      "text/plain": [
       "  0%|          | 0/101 [00:00<?, ?it/s]"
      ]
     },
     "metadata": {},
     "output_type": "display_data"
    },
    {
     "data": {
      "application/vnd.jupyter.widget-view+json": {
       "model_id": "c7f32ee967b44ea69f57def82a2b0142",
       "version_major": 2,
       "version_minor": 0
      },
      "text/plain": [
       "  0%|          | 0/101 [00:00<?, ?it/s]"
      ]
     },
     "metadata": {},
     "output_type": "display_data"
    },
    {
     "data": {
      "application/vnd.jupyter.widget-view+json": {
       "model_id": "c15020543f134609b260225dc820d526",
       "version_major": 2,
       "version_minor": 0
      },
      "text/plain": [
       "  0%|          | 0/233 [00:00<?, ?it/s]"
      ]
     },
     "metadata": {},
     "output_type": "display_data"
    },
    {
     "data": {
      "application/vnd.jupyter.widget-view+json": {
       "model_id": "c3e359bbd02f46d18e40eeb1ff4abb8d",
       "version_major": 2,
       "version_minor": 0
      },
      "text/plain": [
       "  0%|          | 0/233 [00:00<?, ?it/s]"
      ]
     },
     "metadata": {},
     "output_type": "display_data"
    }
   ],
   "source": [
    "def load_image(path, subset='train'):\n",
    "    image_list, label_list = [], []\n",
    "    image_files = glob(path+subset+'/'+subset+'_images/*.png')\n",
    "    label_files = glob(path+subset+'/'+subset+'_labels/*.png')\n",
    "    for file in tqdm(image_files):\n",
    "        img = cv2.imread(file)\n",
    "        img = cv2.cvtColor(img, cv2.COLOR_BGR2RGB)\n",
    "        image_list.append(img)\n",
    "    for file in tqdm(label_files):\n",
    "        img = cv2.imread(file)\n",
    "        img = cv2.cvtColor(img, cv2.COLOR_BGR2RGB)\n",
    "        label_list.append(img)\n",
    "    return np.array(image_list), np.array(label_list)\n",
    "\n",
    "path = 'C:/Users/user/MY_DL/segmentation/dataset/camvid_low/'\n",
    "train_image, train_label = load_image(path, subset='train')\n",
    "valid_image, valid_label = load_image(path, subset='valid')\n",
    "test_image, test_label = load_image(path, subset='test')"
   ]
  },
  {
   "cell_type": "code",
   "execution_count": 8,
   "id": "55e61d71",
   "metadata": {},
   "outputs": [],
   "source": [
    "def get_class_total_num(class_name, data_label):\n",
    "    class_count = 0\n",
    "    for i in tqdm(range(len(data_label))):\n",
    "        for j in range(data_label.shape[1]):\n",
    "            for k in range(data_label.shape[2]):\n",
    "                if (data_label[i][j,k,:] == rgb_data[class_name]).sum() == 3:\n",
    "                    class_count += 1\n",
    "    return class_count"
   ]
  },
  {
   "cell_type": "code",
   "execution_count": 9,
   "id": "6a6590dc",
   "metadata": {
    "scrolled": false
   },
   "outputs": [
    {
     "data": {
      "application/vnd.jupyter.widget-view+json": {
       "model_id": "790540b49ae34f0192cdf77df25f7f8c",
       "version_major": 2,
       "version_minor": 0
      },
      "text/plain": [
       "  0%|          | 0/367 [00:00<?, ?it/s]"
      ]
     },
     "metadata": {},
     "output_type": "display_data"
    },
    {
     "data": {
      "application/vnd.jupyter.widget-view+json": {
       "model_id": "3c1e0e8987894b179e93e3a0b617e7b4",
       "version_major": 2,
       "version_minor": 0
      },
      "text/plain": [
       "  0%|          | 0/367 [00:00<?, ?it/s]"
      ]
     },
     "metadata": {},
     "output_type": "display_data"
    },
    {
     "data": {
      "application/vnd.jupyter.widget-view+json": {
       "model_id": "cfa4d3af6217441daa14183080039bca",
       "version_major": 2,
       "version_minor": 0
      },
      "text/plain": [
       "  0%|          | 0/367 [00:00<?, ?it/s]"
      ]
     },
     "metadata": {},
     "output_type": "display_data"
    },
    {
     "data": {
      "application/vnd.jupyter.widget-view+json": {
       "model_id": "8b64da6f320d4a238cbc9c267b6055f5",
       "version_major": 2,
       "version_minor": 0
      },
      "text/plain": [
       "  0%|          | 0/367 [00:00<?, ?it/s]"
      ]
     },
     "metadata": {},
     "output_type": "display_data"
    },
    {
     "data": {
      "application/vnd.jupyter.widget-view+json": {
       "model_id": "82f45b6afd064622a719d45ea7369297",
       "version_major": 2,
       "version_minor": 0
      },
      "text/plain": [
       "  0%|          | 0/367 [00:00<?, ?it/s]"
      ]
     },
     "metadata": {},
     "output_type": "display_data"
    },
    {
     "data": {
      "application/vnd.jupyter.widget-view+json": {
       "model_id": "7d54446b7b4f48f5abb70cbaf31a0435",
       "version_major": 2,
       "version_minor": 0
      },
      "text/plain": [
       "  0%|          | 0/367 [00:00<?, ?it/s]"
      ]
     },
     "metadata": {},
     "output_type": "display_data"
    },
    {
     "data": {
      "application/vnd.jupyter.widget-view+json": {
       "model_id": "5edcbde6d4fb46ac8a5abfbad012ea1b",
       "version_major": 2,
       "version_minor": 0
      },
      "text/plain": [
       "  0%|          | 0/367 [00:00<?, ?it/s]"
      ]
     },
     "metadata": {},
     "output_type": "display_data"
    },
    {
     "data": {
      "application/vnd.jupyter.widget-view+json": {
       "model_id": "4346a57dc59c48e8984373bce51e6576",
       "version_major": 2,
       "version_minor": 0
      },
      "text/plain": [
       "  0%|          | 0/367 [00:00<?, ?it/s]"
      ]
     },
     "metadata": {},
     "output_type": "display_data"
    },
    {
     "data": {
      "application/vnd.jupyter.widget-view+json": {
       "model_id": "f27563875f4c49c6be0cecb41eb536f7",
       "version_major": 2,
       "version_minor": 0
      },
      "text/plain": [
       "  0%|          | 0/367 [00:00<?, ?it/s]"
      ]
     },
     "metadata": {},
     "output_type": "display_data"
    },
    {
     "data": {
      "application/vnd.jupyter.widget-view+json": {
       "model_id": "dd16a87313aa4b14aead0db3df18d967",
       "version_major": 2,
       "version_minor": 0
      },
      "text/plain": [
       "  0%|          | 0/367 [00:00<?, ?it/s]"
      ]
     },
     "metadata": {},
     "output_type": "display_data"
    },
    {
     "data": {
      "application/vnd.jupyter.widget-view+json": {
       "model_id": "9141dbc299864563bed4f0eab2dc8a8f",
       "version_major": 2,
       "version_minor": 0
      },
      "text/plain": [
       "  0%|          | 0/367 [00:00<?, ?it/s]"
      ]
     },
     "metadata": {},
     "output_type": "display_data"
    },
    {
     "data": {
      "application/vnd.jupyter.widget-view+json": {
       "model_id": "bda7d77664f2445a8b8358234cf58fd3",
       "version_major": 2,
       "version_minor": 0
      },
      "text/plain": [
       "  0%|          | 0/367 [00:00<?, ?it/s]"
      ]
     },
     "metadata": {},
     "output_type": "display_data"
    }
   ],
   "source": [
    "# check counting of train data\n",
    "Sky = get_class_total_num('Sky', train_label)\n",
    "Building = get_class_total_num('Building', train_label)\n",
    "Pole = get_class_total_num('Pole', train_label)\n",
    "Road = get_class_total_num('Road', train_label)\n",
    "Sidewalk = get_class_total_num('Sidewalk', train_label)\n",
    "Tree = get_class_total_num('Tree', train_label)\n",
    "SignSymbol = get_class_total_num('SignSymbol', train_label)\n",
    "Fence = get_class_total_num('Fence', train_label)\n",
    "Car = get_class_total_num('Car', train_label)\n",
    "Pedestrian = get_class_total_num('Pedestrian', train_label)\n",
    "Bicyclist = get_class_total_num('Bicyclist', train_label)\n",
    "unlabelled = get_class_total_num('unlabelled', train_label)"
   ]
  },
  {
   "cell_type": "code",
   "execution_count": 10,
   "id": "cb4049d5",
   "metadata": {},
   "outputs": [
    {
     "data": {
      "image/png": "[encoded data removed]",
      "text/plain": [
       "<Figure size 1080x504 with 2 Axes>"
      ]
     },
     "metadata": {
      "needs_background": "light"
     },
     "output_type": "display_data"
    }
   ],
   "source": [
    "# create data frame\n",
    "train_class_labels = list(rgb_data.keys())\n",
    "train_class_count = [Sky, Building, Pole, Road, Sidewalk, Tree, SignSymbol, Fence, Car,\n",
    "                     Pedestrian, Bicyclist, unlabelled]\n",
    "\n",
    "train_class_df = pd.DataFrame(train_class_count, index=train_class_labels, columns=['Count'])\n",
    "train_class_df = train_class_df.sort_values(by='Count', ascending=False)\n",
    "\n",
    "# show plots\n",
    "plt.figure(figsize=(15,7))\n",
    "plt.subplot(121)\n",
    "sns.barplot(data=train_class_df, x=train_class_df.index, y='Count')\n",
    "plt.xticks(rotation=45, fontsize=15)\n",
    "plt.yticks(fontsize=15)\n",
    "plt.subplot(122)\n",
    "plt.pie(train_class_df['Count'], labels=train_class_df.index, autopct='%.1f%%')\n",
    "plt.show()"
   ]
  },
  {
   "cell_type": "markdown",
   "id": "b187c407",
   "metadata": {},
   "source": [
    "- data imbalance가 굉장히 심하다  \n",
    "- 위의 그래프를 보면 train data의 경우 Road, Building, Sky, Tree가 총 약 80%를 차지하고 있고   \n",
    "- 단순히 Cross Entropy Loss를 사용할 경우 작은 object에 대해서는 segmentation을 수행을 못하게 됨   \n",
    "- 그래서 Loss function의 수정이 필요함  \n",
    "- 논문에서는 median frequency balancing라는 것을 이용해 Cross Entropy Loss 연산 과정에서 각 클래스에 weight를 부여함"
   ]
  },
  {
   "cell_type": "code",
   "execution_count": null,
   "id": "bc49c411",
   "metadata": {},
   "outputs": [],
   "source": []
  }
 ],
 "metadata": {
  "kernelspec": {
   "display_name": "Python 3 (ipykernel)",
   "language": "python",
   "name": "python3"
  },
  "language_info": {
   "codemirror_mode": {
    "name": "ipython",
    "version": 3
   },
   "file_extension": ".py",
   "mimetype": "text/x-python",
   "name": "python",
   "nbconvert_exporter": "python",
   "pygments_lexer": "ipython3",
   "version": "3.8.12"
  }
 },
 "nbformat": 4,
 "nbformat_minor": 5
}
