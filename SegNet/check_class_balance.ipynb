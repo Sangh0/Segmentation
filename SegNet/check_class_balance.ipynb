{
 "cells": [
  {
   "cell_type": "markdown",
   "id": "e9fd067f",
   "metadata": {},
   "source": [
    "# Check class balancing of CamVid data set  \n",
    "- CamVid data set에서 class balancing가 얼마나 되는지 체크하기  "
   ]
  },
  {
   "cell_type": "code",
   "execution_count": 1,
   "id": "ef8ff0b1",
   "metadata": {},
   "outputs": [],
   "source": [
    "# packages and modules\n",
    "import os\n",
    "import cv2\n",
    "import numpy as np\n",
    "import pandas as pd\n",
    "import matplotlib.pyplot as plt\n",
    "import seaborn as sns\n",
    "from glob import glob\n",
    "from tqdm.notebook import tqdm\n",
    "from segnet_utils import load_image_with_resize"
   ]
  },
  {
   "cell_type": "code",
   "execution_count": 2,
   "id": "8c6849d8",
   "metadata": {},
   "outputs": [],
   "source": [
    "import warnings\n",
    "warnings.filterwarnings('ignore')"
   ]
  },
  {
   "cell_type": "markdown",
   "id": "876249f2",
   "metadata": {},
   "source": [
    "# Load Data"
   ]
  },
  {
   "cell_type": "code",
   "execution_count": 3,
   "id": "a55709e6",
   "metadata": {},
   "outputs": [
    {
     "data": {
      "text/html": [
       "<div>\n",
       "<style scoped>\n",
       "    .dataframe tbody tr th:only-of-type {\n",
       "        vertical-align: middle;\n",
       "    }\n",
       "\n",
       "    .dataframe tbody tr th {\n",
       "        vertical-align: top;\n",
       "    }\n",
       "\n",
       "    .dataframe thead th {\n",
       "        text-align: right;\n",
       "    }\n",
       "</style>\n",
       "<table border=\"1\" class=\"dataframe\">\n",
       "  <thead>\n",
       "    <tr style=\"text-align: right;\">\n",
       "      <th></th>\n",
       "      <th>r</th>\n",
       "      <th>g</th>\n",
       "      <th>b</th>\n",
       "    </tr>\n",
       "    <tr>\n",
       "      <th>name</th>\n",
       "      <th></th>\n",
       "      <th></th>\n",
       "      <th></th>\n",
       "    </tr>\n",
       "  </thead>\n",
       "  <tbody>\n",
       "    <tr>\n",
       "      <th>Sky</th>\n",
       "      <td>128</td>\n",
       "      <td>128</td>\n",
       "      <td>128</td>\n",
       "    </tr>\n",
       "    <tr>\n",
       "      <th>Building</th>\n",
       "      <td>128</td>\n",
       "      <td>0</td>\n",
       "      <td>0</td>\n",
       "    </tr>\n",
       "    <tr>\n",
       "      <th>Pole</th>\n",
       "      <td>192</td>\n",
       "      <td>192</td>\n",
       "      <td>128</td>\n",
       "    </tr>\n",
       "    <tr>\n",
       "      <th>Road</th>\n",
       "      <td>128</td>\n",
       "      <td>64</td>\n",
       "      <td>128</td>\n",
       "    </tr>\n",
       "    <tr>\n",
       "      <th>Sidewalk</th>\n",
       "      <td>0</td>\n",
       "      <td>0</td>\n",
       "      <td>192</td>\n",
       "    </tr>\n",
       "    <tr>\n",
       "      <th>Tree</th>\n",
       "      <td>128</td>\n",
       "      <td>128</td>\n",
       "      <td>0</td>\n",
       "    </tr>\n",
       "    <tr>\n",
       "      <th>SignSymbol</th>\n",
       "      <td>192</td>\n",
       "      <td>128</td>\n",
       "      <td>128</td>\n",
       "    </tr>\n",
       "    <tr>\n",
       "      <th>Fence</th>\n",
       "      <td>64</td>\n",
       "      <td>64</td>\n",
       "      <td>128</td>\n",
       "    </tr>\n",
       "    <tr>\n",
       "      <th>Car</th>\n",
       "      <td>64</td>\n",
       "      <td>0</td>\n",
       "      <td>128</td>\n",
       "    </tr>\n",
       "    <tr>\n",
       "      <th>Pedestrian</th>\n",
       "      <td>64</td>\n",
       "      <td>64</td>\n",
       "      <td>0</td>\n",
       "    </tr>\n",
       "    <tr>\n",
       "      <th>Bicyclist</th>\n",
       "      <td>0</td>\n",
       "      <td>128</td>\n",
       "      <td>192</td>\n",
       "    </tr>\n",
       "    <tr>\n",
       "      <th>unlabelled</th>\n",
       "      <td>0</td>\n",
       "      <td>0</td>\n",
       "      <td>0</td>\n",
       "    </tr>\n",
       "  </tbody>\n",
       "</table>\n",
       "</div>"
      ],
      "text/plain": [
       "              r    g    b\n",
       "name                     \n",
       "Sky         128  128  128\n",
       "Building    128    0    0\n",
       "Pole        192  192  128\n",
       "Road        128   64  128\n",
       "Sidewalk      0    0  192\n",
       "Tree        128  128    0\n",
       "SignSymbol  192  128  128\n",
       "Fence        64   64  128\n",
       "Car          64    0  128\n",
       "Pedestrian   64   64    0\n",
       "Bicyclist     0  128  192\n",
       "unlabelled    0    0    0"
      ]
     },
     "execution_count": 3,
     "metadata": {},
     "output_type": "execute_result"
    }
   ],
   "source": [
    "# 클래스 디렉토리 데이터 불러오기\n",
    "data = pd.read_csv('./camvid/11_class_dict.csv', index_col=0)\n",
    "data"
   ]
  },
  {
   "cell_type": "code",
   "execution_count": 4,
   "id": "ae5a8bf7",
   "metadata": {},
   "outputs": [],
   "source": [
    "rgb_data = {name:list(data.loc[name, :]) for name in data.index}\n",
    "rgb_array = {idx:np.array(rgb) for idx, (_, rgb) in enumerate(rgb_data.items())}"
   ]
  },
  {
   "cell_type": "code",
   "execution_count": 5,
   "id": "809d2cad",
   "metadata": {},
   "outputs": [],
   "source": [
    "width = 224\n",
    "height = 224\n",
    "num_classes = len(data) # 12 classes (11 object classes and 1 background)"
   ]
  },
  {
   "cell_type": "code",
   "execution_count": 6,
   "id": "7452e422",
   "metadata": {},
   "outputs": [
    {
     "data": {
      "application/vnd.jupyter.widget-view+json": {
       "model_id": "05a0811dcf6a415c85206ac3650cee1a",
       "version_major": 2,
       "version_minor": 0
      },
      "text/plain": [
       "  0%|          | 0/367 [00:00<?, ?it/s]"
      ]
     },
     "metadata": {},
     "output_type": "display_data"
    },
    {
     "data": {
      "application/vnd.jupyter.widget-view+json": {
       "model_id": "eee65cc7d9d5442ea5b249326bc28f86",
       "version_major": 2,
       "version_minor": 0
      },
      "text/plain": [
       "  0%|          | 0/367 [00:00<?, ?it/s]"
      ]
     },
     "metadata": {},
     "output_type": "display_data"
    },
    {
     "data": {
      "application/vnd.jupyter.widget-view+json": {
       "model_id": "b21d6034f5494290bb17b146b8635d32",
       "version_major": 2,
       "version_minor": 0
      },
      "text/plain": [
       "  0%|          | 0/101 [00:00<?, ?it/s]"
      ]
     },
     "metadata": {},
     "output_type": "display_data"
    },
    {
     "data": {
      "application/vnd.jupyter.widget-view+json": {
       "model_id": "13be482da2aa4ec6961de7fbea380594",
       "version_major": 2,
       "version_minor": 0
      },
      "text/plain": [
       "  0%|          | 0/101 [00:00<?, ?it/s]"
      ]
     },
     "metadata": {},
     "output_type": "display_data"
    }
   ],
   "source": [
    "# load image data with resize\n",
    "path = './camvid/'\n",
    "train_image, train_label = load_image_with_resize(path, \n",
    "                                                  n_pixel_L=width, n_pixel_R=height, \n",
    "                                                  subset='train')\n",
    "valid_image, valid_label = load_image_with_resize(path, \n",
    "                                                  n_pixel_L=width, n_pixel_R=height, \n",
    "                                                  subset='valid')"
   ]
  },
  {
   "cell_type": "code",
   "execution_count": 7,
   "id": "10db0d33",
   "metadata": {},
   "outputs": [],
   "source": [
    "def get_class_total_num(class_name, data_label):\n",
    "    class_count = 0\n",
    "    for i in tqdm(range(len(data_label))):\n",
    "        for j in range(data_label.shape[1]):\n",
    "            for k in range(data_label.shape[2]):\n",
    "                if (data_label[i][j,k,:] == rgb_data[class_name]).sum() == 3:\n",
    "                    class_count += 1\n",
    "    return class_count"
   ]
  },
  {
   "cell_type": "code",
   "execution_count": 8,
   "id": "c791da19",
   "metadata": {},
   "outputs": [
    {
     "data": {
      "application/vnd.jupyter.widget-view+json": {
       "model_id": "00af450e498e4f5eb23c28c00c92570b",
       "version_major": 2,
       "version_minor": 0
      },
      "text/plain": [
       "  0%|          | 0/367 [00:00<?, ?it/s]"
      ]
     },
     "metadata": {},
     "output_type": "display_data"
    },
    {
     "data": {
      "application/vnd.jupyter.widget-view+json": {
       "model_id": "a0d182e560154caa8835a4637b836390",
       "version_major": 2,
       "version_minor": 0
      },
      "text/plain": [
       "  0%|          | 0/367 [00:00<?, ?it/s]"
      ]
     },
     "metadata": {},
     "output_type": "display_data"
    },
    {
     "data": {
      "application/vnd.jupyter.widget-view+json": {
       "model_id": "3563672d09ad48d4a39d1e5bd4466f31",
       "version_major": 2,
       "version_minor": 0
      },
      "text/plain": [
       "  0%|          | 0/367 [00:00<?, ?it/s]"
      ]
     },
     "metadata": {},
     "output_type": "display_data"
    },
    {
     "data": {
      "application/vnd.jupyter.widget-view+json": {
       "model_id": "c9b63507c9a146cd884f0662f75fdc33",
       "version_major": 2,
       "version_minor": 0
      },
      "text/plain": [
       "  0%|          | 0/367 [00:00<?, ?it/s]"
      ]
     },
     "metadata": {},
     "output_type": "display_data"
    },
    {
     "data": {
      "application/vnd.jupyter.widget-view+json": {
       "model_id": "c8e23389ada24f5bad7dbae708640182",
       "version_major": 2,
       "version_minor": 0
      },
      "text/plain": [
       "  0%|          | 0/367 [00:00<?, ?it/s]"
      ]
     },
     "metadata": {},
     "output_type": "display_data"
    },
    {
     "data": {
      "application/vnd.jupyter.widget-view+json": {
       "model_id": "2ec7859bd67a4b3f94f2e4dffcb47761",
       "version_major": 2,
       "version_minor": 0
      },
      "text/plain": [
       "  0%|          | 0/367 [00:00<?, ?it/s]"
      ]
     },
     "metadata": {},
     "output_type": "display_data"
    },
    {
     "data": {
      "application/vnd.jupyter.widget-view+json": {
       "model_id": "4caf1539abb7431793852d6478082062",
       "version_major": 2,
       "version_minor": 0
      },
      "text/plain": [
       "  0%|          | 0/367 [00:00<?, ?it/s]"
      ]
     },
     "metadata": {},
     "output_type": "display_data"
    },
    {
     "data": {
      "application/vnd.jupyter.widget-view+json": {
       "model_id": "a6de946a5f7345d3a3839cb7466963c4",
       "version_major": 2,
       "version_minor": 0
      },
      "text/plain": [
       "  0%|          | 0/367 [00:00<?, ?it/s]"
      ]
     },
     "metadata": {},
     "output_type": "display_data"
    },
    {
     "data": {
      "application/vnd.jupyter.widget-view+json": {
       "model_id": "a908a5ad360b492c80113f844cdca280",
       "version_major": 2,
       "version_minor": 0
      },
      "text/plain": [
       "  0%|          | 0/367 [00:00<?, ?it/s]"
      ]
     },
     "metadata": {},
     "output_type": "display_data"
    },
    {
     "data": {
      "application/vnd.jupyter.widget-view+json": {
       "model_id": "7e34fdc297aa40909b2c873f307d146f",
       "version_major": 2,
       "version_minor": 0
      },
      "text/plain": [
       "  0%|          | 0/367 [00:00<?, ?it/s]"
      ]
     },
     "metadata": {},
     "output_type": "display_data"
    },
    {
     "data": {
      "application/vnd.jupyter.widget-view+json": {
       "model_id": "316860752f7244d2b9a2fdbfa24e1c79",
       "version_major": 2,
       "version_minor": 0
      },
      "text/plain": [
       "  0%|          | 0/367 [00:00<?, ?it/s]"
      ]
     },
     "metadata": {},
     "output_type": "display_data"
    },
    {
     "data": {
      "application/vnd.jupyter.widget-view+json": {
       "model_id": "6471fbfee31340d2b6b5ab2da55310af",
       "version_major": 2,
       "version_minor": 0
      },
      "text/plain": [
       "  0%|          | 0/367 [00:00<?, ?it/s]"
      ]
     },
     "metadata": {},
     "output_type": "display_data"
    }
   ],
   "source": [
    "# check counting of train data\n",
    "Sky = get_class_total_num('Sky', train_label)\n",
    "Building = get_class_total_num('Building', train_label)\n",
    "Pole = get_class_total_num('Pole', train_label)\n",
    "Road = get_class_total_num('Road', train_label)\n",
    "Sidewalk = get_class_total_num('Sidewalk', train_label)\n",
    "Tree = get_class_total_num('Tree', train_label)\n",
    "SignSymbol = get_class_total_num('SignSymbol', train_label)\n",
    "Fence = get_class_total_num('Fence', train_label)\n",
    "Car = get_class_total_num('Car', train_label)\n",
    "Pedestrian = get_class_total_num('Pedestrian', train_label)\n",
    "Bicyclist = get_class_total_num('Bicyclist', train_label)\n",
    "unlabelled = get_class_total_num('unlabelled', train_label)"
   ]
  },
  {
   "cell_type": "code",
   "execution_count": 9,
   "id": "0b342831",
   "metadata": {},
   "outputs": [
    {
     "data": {
      "image/png": "[encoded data removed]",
      "text/plain": [
       "<Figure size 1080x504 with 2 Axes>"
      ]
     },
     "metadata": {
      "needs_background": "light"
     },
     "output_type": "display_data"
    }
   ],
   "source": [
    "# create data frame\n",
    "train_class_labels = list(rgb_data.keys())\n",
    "train_class_count = [Sky, Building, Pole, Road, Sidewalk, Tree, SignSymbol, Fence, Car,\n",
    "                     Pedestrian, Bicyclist, unlabelled]\n",
    "\n",
    "train_class_df = pd.DataFrame(train_class_count, index=train_class_labels, columns=['Count'])\n",
    "train_class_df = train_class_df.sort_values(by='Count', ascending=False)\n",
    "\n",
    "# show plots\n",
    "plt.figure(figsize=(15,7))\n",
    "plt.subplot(121)\n",
    "sns.barplot(data=train_class_df, x=train_class_df.index, y='Count')\n",
    "plt.xticks(rotation=45, fontsize=15)\n",
    "plt.yticks(fontsize=15)\n",
    "plt.subplot(122)\n",
    "plt.pie(train_class_df['Count'], labels=train_class_df.index, autopct='%.1f%%')\n",
    "plt.show()"
   ]
  },
  {
   "cell_type": "code",
   "execution_count": 10,
   "id": "a94eb085",
   "metadata": {},
   "outputs": [
    {
     "data": {
      "application/vnd.jupyter.widget-view+json": {
       "model_id": "090c2ed01bc84e9cb67617ea7131f232",
       "version_major": 2,
       "version_minor": 0
      },
      "text/plain": [
       "  0%|          | 0/101 [00:00<?, ?it/s]"
      ]
     },
     "metadata": {},
     "output_type": "display_data"
    },
    {
     "data": {
      "application/vnd.jupyter.widget-view+json": {
       "model_id": "f85696b471a24fef9b38dbf91dd96b46",
       "version_major": 2,
       "version_minor": 0
      },
      "text/plain": [
       "  0%|          | 0/101 [00:00<?, ?it/s]"
      ]
     },
     "metadata": {},
     "output_type": "display_data"
    },
    {
     "data": {
      "application/vnd.jupyter.widget-view+json": {
       "model_id": "81b2c6de3a1648b6b3a6e6ef989f0bd7",
       "version_major": 2,
       "version_minor": 0
      },
      "text/plain": [
       "  0%|          | 0/101 [00:00<?, ?it/s]"
      ]
     },
     "metadata": {},
     "output_type": "display_data"
    },
    {
     "data": {
      "application/vnd.jupyter.widget-view+json": {
       "model_id": "c0e167a2d53b444e9e94990de5ca6e59",
       "version_major": 2,
       "version_minor": 0
      },
      "text/plain": [
       "  0%|          | 0/101 [00:00<?, ?it/s]"
      ]
     },
     "metadata": {},
     "output_type": "display_data"
    },
    {
     "data": {
      "application/vnd.jupyter.widget-view+json": {
       "model_id": "c600e7ea647847acabe9bbf7a8fea707",
       "version_major": 2,
       "version_minor": 0
      },
      "text/plain": [
       "  0%|          | 0/101 [00:00<?, ?it/s]"
      ]
     },
     "metadata": {},
     "output_type": "display_data"
    },
    {
     "data": {
      "application/vnd.jupyter.widget-view+json": {
       "model_id": "709f90880c504217bc46742af5f00b2e",
       "version_major": 2,
       "version_minor": 0
      },
      "text/plain": [
       "  0%|          | 0/101 [00:00<?, ?it/s]"
      ]
     },
     "metadata": {},
     "output_type": "display_data"
    },
    {
     "data": {
      "application/vnd.jupyter.widget-view+json": {
       "model_id": "1e8583e35825482fadc643b288080a38",
       "version_major": 2,
       "version_minor": 0
      },
      "text/plain": [
       "  0%|          | 0/101 [00:00<?, ?it/s]"
      ]
     },
     "metadata": {},
     "output_type": "display_data"
    },
    {
     "data": {
      "application/vnd.jupyter.widget-view+json": {
       "model_id": "e900390fc2e64c248a74c7759a29eb2a",
       "version_major": 2,
       "version_minor": 0
      },
      "text/plain": [
       "  0%|          | 0/101 [00:00<?, ?it/s]"
      ]
     },
     "metadata": {},
     "output_type": "display_data"
    },
    {
     "data": {
      "application/vnd.jupyter.widget-view+json": {
       "model_id": "07880d4e85ba4527873d92e6fc3eca1c",
       "version_major": 2,
       "version_minor": 0
      },
      "text/plain": [
       "  0%|          | 0/101 [00:00<?, ?it/s]"
      ]
     },
     "metadata": {},
     "output_type": "display_data"
    },
    {
     "data": {
      "application/vnd.jupyter.widget-view+json": {
       "model_id": "0ee0d0e32e2a48ccb227121f6367180b",
       "version_major": 2,
       "version_minor": 0
      },
      "text/plain": [
       "  0%|          | 0/101 [00:00<?, ?it/s]"
      ]
     },
     "metadata": {},
     "output_type": "display_data"
    },
    {
     "data": {
      "application/vnd.jupyter.widget-view+json": {
       "model_id": "bce28b5dc3724d34b07412aa1852c80f",
       "version_major": 2,
       "version_minor": 0
      },
      "text/plain": [
       "  0%|          | 0/101 [00:00<?, ?it/s]"
      ]
     },
     "metadata": {},
     "output_type": "display_data"
    },
    {
     "data": {
      "application/vnd.jupyter.widget-view+json": {
       "model_id": "32a1d4a9458f460eb5a1cff3f9dbabf7",
       "version_major": 2,
       "version_minor": 0
      },
      "text/plain": [
       "  0%|          | 0/101 [00:00<?, ?it/s]"
      ]
     },
     "metadata": {},
     "output_type": "display_data"
    }
   ],
   "source": [
    "# check counting of valid data\n",
    "val_Sky = get_class_total_num('Sky', valid_label)\n",
    "val_Building = get_class_total_num('Building', valid_label)\n",
    "val_Pole = get_class_total_num('Pole', valid_label)\n",
    "val_Road = get_class_total_num('Road', valid_label)\n",
    "val_Sidewalk = get_class_total_num('Sidewalk', valid_label)\n",
    "val_Tree = get_class_total_num('Tree', valid_label)\n",
    "val_SignSymbol = get_class_total_num('SignSymbol', valid_label)\n",
    "val_Fence = get_class_total_num('Fence', valid_label)\n",
    "val_Car = get_class_total_num('Car', valid_label)\n",
    "val_Pedestrian = get_class_total_num('Pedestrian', valid_label)\n",
    "val_Bicyclist = get_class_total_num('Bicyclist', valid_label)\n",
    "val_unlabelled = get_class_total_num('unlabelled', valid_label)"
   ]
  },
  {
   "cell_type": "code",
   "execution_count": 11,
   "id": "36f9b531",
   "metadata": {},
   "outputs": [
    {
     "data": {
      "image/png": "[encoded data removed]",
      "text/plain": [
       "<Figure size 1080x504 with 2 Axes>"
      ]
     },
     "metadata": {
      "needs_background": "light"
     },
     "output_type": "display_data"
    }
   ],
   "source": [
    "# create data frame\n",
    "valid_class_labels = list(rgb_data.keys())\n",
    "valid_class_count = [val_Sky, val_Building, val_Pole, val_Road, val_Sidewalk, val_Tree, val_SignSymbol, \n",
    "                     val_Fence, val_Car, val_Pedestrian, val_Bicyclist, val_unlabelled]\n",
    "\n",
    "valid_class_df = pd.DataFrame(valid_class_count, index=valid_class_labels, columns=['Count'])\n",
    "valid_class_df = valid_class_df.sort_values(by='Count', ascending=False)\n",
    "\n",
    "# show plots\n",
    "plt.figure(figsize=(15,7))\n",
    "plt.subplot(121)\n",
    "sns.barplot(data=valid_class_df, x=valid_class_df.index, y='Count')\n",
    "plt.xticks(rotation=45, fontsize=15)\n",
    "plt.yticks(fontsize=15)\n",
    "plt.subplot(122)\n",
    "plt.pie(valid_class_df['Count'], labels=valid_class_df.index, autopct='%.1f%%')\n",
    "plt.show()"
   ]
  },
  {
   "cell_type": "markdown",
   "id": "b187c407",
   "metadata": {},
   "source": [
    "- data imbalance가 굉장히 심함  \n",
    "- 위의 그래프를 보면 train data의 경우 Road, Building, Sky, Tree가 총 약 83.6%를 차지하고 있고  \n",
    "- validation data의 경우 Road, Building, Sky, Tree가 총 약 81.4%를 차지하고 있다  \n",
    "- 단순히 Cross Entropy Loss를 사용할 경우 작은 object에 대해서는 segmentation을 수행을 못하게 됨  \n",
    "- 그래서 Loss function의 수정이 필요함"
   ]
  }
 ],
 "metadata": {
  "kernelspec": {
   "display_name": "Python 3 (ipykernel)",
   "language": "python",
   "name": "python3"
  },
  "language_info": {
   "codemirror_mode": {
    "name": "ipython",
    "version": 3
   },
   "file_extension": ".py",
   "mimetype": "text/x-python",
   "name": "python",
   "nbconvert_exporter": "python",
   "pygments_lexer": "ipython3",
   "version": "3.8.12"
  }
 },
 "nbformat": 4,
 "nbformat_minor": 5
}
